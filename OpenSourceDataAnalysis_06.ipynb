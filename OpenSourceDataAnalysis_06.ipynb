{
  "nbformat": 4,
  "nbformat_minor": 0,
  "metadata": {
    "colab": {
      "provenance": [],
      "include_colab_link": true
    },
    "kernelspec": {
      "name": "python3",
      "display_name": "Python 3"
    },
    "language_info": {
      "name": "python"
    }
  },
  "cells": [
    {
      "cell_type": "markdown",
      "metadata": {
        "id": "view-in-github",
        "colab_type": "text"
      },
      "source": [
        "<a href=\"https://colab.research.google.com/github/HYA6/DataAnalysis/blob/master/OpenSourceDataAnalysis_06.ipynb\" target=\"_parent\"><img src=\"https://colab.research.google.com/assets/colab-badge.svg\" alt=\"Open In Colab\"/></a>"
      ]
    },
    {
      "cell_type": "markdown",
      "source": [
        "# 오픈소스 기반 데이터 분석 6강 - 데이터 전처리 1"
      ],
      "metadata": {
        "id": "1Ld5KWf86hIu"
      }
    },
    {
      "cell_type": "markdown",
      "source": [
        "### 6-1 데이터 훑어보기"
      ],
      "metadata": {
        "id": "XqpCWf2063pN"
      }
    },
    {
      "cell_type": "code",
      "source": [
        "import pandas as pd\n",
        "import numpy as np\n",
        "\n",
        "data = {\n",
        "    'name': ['김민수', '이지영', '박준호', '최서연', '정도윤'],\n",
        "    'age': [25, 30, 28, 22, 35],\n",
        "    'city': ['서울', '부산', '인천', '서울', '대전'],\n",
        "    'score': [90, 85, 95, 80, np.nan]\n",
        "}\n",
        "df = pd.DataFrame(data)\n",
        "\n",
        "# 데이터 측정\n",
        "print('1. 기본 describe(): ')\n",
        "print(df.describe())\n",
        "\n",
        "# 모든 데이터 타입 측정\n",
        "print('\\n2. 모든 데이터 타입: ')\n",
        "print(df.describe(include='all'))\n",
        "\n",
        "# 수치형 데이터 측정\n",
        "print('\\n3. 수치형 데이터만: ')\n",
        "print(df.describe(include=[np.number]))\n",
        "\n",
        "# 범주형 데이터 측정\n",
        "print('\\n4. 범주형 데이터만: ')\n",
        "print(df.describe(include=['object']))\n",
        "\n",
        "# 특정 열 분석\n",
        "print('\\n5. score 열 분석: ')\n",
        "print(df['score'].describe())\n"
      ],
      "metadata": {
        "id": "TKsIqpFtYVVS",
        "colab": {
          "base_uri": "https://localhost:8080/"
        },
        "outputId": "ff1b77fe-2e3f-4859-f0c1-b08b751d3d1a"
      },
      "execution_count": 2,
      "outputs": [
        {
          "output_type": "stream",
          "name": "stdout",
          "text": [
            "1. 기본 describe(): \n",
            "             age      score\n",
            "count   5.000000   4.000000\n",
            "mean   28.000000  87.500000\n",
            "std     4.949747   6.454972\n",
            "min    22.000000  80.000000\n",
            "25%    25.000000  83.750000\n",
            "50%    28.000000  87.500000\n",
            "75%    30.000000  91.250000\n",
            "max    35.000000  95.000000\n",
            "\n",
            "2. 모든 데이터 타입: \n",
            "       name        age city      score\n",
            "count     5   5.000000    5   4.000000\n",
            "unique    5        NaN    4        NaN\n",
            "top     김민수        NaN   서울        NaN\n",
            "freq      1        NaN    2        NaN\n",
            "mean    NaN  28.000000  NaN  87.500000\n",
            "std     NaN   4.949747  NaN   6.454972\n",
            "min     NaN  22.000000  NaN  80.000000\n",
            "25%     NaN  25.000000  NaN  83.750000\n",
            "50%     NaN  28.000000  NaN  87.500000\n",
            "75%     NaN  30.000000  NaN  91.250000\n",
            "max     NaN  35.000000  NaN  95.000000\n",
            "\n",
            "3. 수치형 데이터만: \n",
            "             age      score\n",
            "count   5.000000   4.000000\n",
            "mean   28.000000  87.500000\n",
            "std     4.949747   6.454972\n",
            "min    22.000000  80.000000\n",
            "25%    25.000000  83.750000\n",
            "50%    28.000000  87.500000\n",
            "75%    30.000000  91.250000\n",
            "max    35.000000  95.000000\n",
            "\n",
            "4. 범주형 데이터만: \n",
            "       name city\n",
            "count     5    5\n",
            "unique    5    4\n",
            "top     김민수   서울\n",
            "freq      1    2\n",
            "\n",
            "5. score 열 분석: \n",
            "count     4.000000\n",
            "mean     87.500000\n",
            "std       6.454972\n",
            "min      80.000000\n",
            "25%      83.750000\n",
            "50%      87.500000\n",
            "75%      91.250000\n",
            "max      95.000000\n",
            "Name: score, dtype: float64\n"
          ]
        }
      ]
    },
    {
      "cell_type": "markdown",
      "source": [
        "### 6-2 DataFrame 열 선택 및 **조작**"
      ],
      "metadata": {
        "id": "HezV4iK1BmrB"
      }
    },
    {
      "cell_type": "code",
      "source": [
        "import pandas as pd\n",
        "\n",
        "data = {\n",
        "    \"이름\": [\"김철수\", \"이영희\", \"박민수\", \"최지훈\", \"정소희\"],\n",
        "    \"학년\": [1, 2, 3, 4, 2],\n",
        "    \"학점\": [4.2, 3.8, 4.5, 3.9, 3.5],\n",
        "    \"학과\": [\"컴퓨터공학\", \"경영학\", \"전자공학\", \"의학\", \"심리학\"],\n",
        "    \"동아리\": [\"프로그래밍\", \"독서토론\", \"로봇공학\", \"봉사활동\", \"음악감상\"]\n",
        "}\n",
        "df = pd.DataFrame(data)\n",
        "\n",
        "# 특정 열 선택\n",
        "selected_cols = df[['이름', '학과', '학점']]\n",
        "print('\\n2. 특정 열만 선택:')\n",
        "print(selected_cols)\n",
        "\n",
        "# DataFrame 열순서 변경\n",
        "reordered_cols = df[['학과', '이름', '학년', '학점', '동아리']]\n",
        "print('\\n3. 열 순서 변경:')\n",
        "print(reordered_cols)\n",
        "\n",
        "# DataFrame 열이름 변경\n",
        "df_renamed = df.rename(columns = {'이름': '학생명', '학점': '평점', '동아리': '과외활동'})\n",
        "print('\\n4. 열 이름 변경:')\n",
        "print(df_renamed)\n"
      ],
      "metadata": {
        "id": "23DbuKjzYcpS",
        "outputId": "9629c4c7-6f4d-465f-d7aa-e557b47229e5",
        "colab": {
          "base_uri": "https://localhost:8080/"
        }
      },
      "execution_count": 13,
      "outputs": [
        {
          "output_type": "stream",
          "name": "stdout",
          "text": [
            "\n",
            "2. 특정 열만 선택:\n",
            "    이름     학과   학점\n",
            "0  김철수  컴퓨터공학  4.2\n",
            "1  이영희    경영학  3.8\n",
            "2  박민수   전자공학  4.5\n",
            "3  최지훈     의학  3.9\n",
            "4  정소희    심리학  3.5\n",
            "\n",
            "3. 열 순서 변경:\n",
            "      학과   이름  학년   학점    동아리\n",
            "0  컴퓨터공학  김철수   1  4.2  프로그래밍\n",
            "1    경영학  이영희   2  3.8   독서토론\n",
            "2   전자공학  박민수   3  4.5   로봇공학\n",
            "3     의학  최지훈   4  3.9   봉사활동\n",
            "4    심리학  정소희   2  3.5   음악감상\n",
            "\n",
            "4. 열 이름 변경:\n",
            "   학생명  학년   평점     학과   과외활동\n",
            "0  김철수   1  4.2  컴퓨터공학  프로그래밍\n",
            "1  이영희   2  3.8    경영학   독서토론\n",
            "2  박민수   3  4.5   전자공학   로봇공학\n",
            "3  최지훈   4  3.9     의학   봉사활동\n",
            "4  정소희   2  3.5    심리학   음악감상\n"
          ]
        }
      ]
    },
    {
      "cell_type": "markdown",
      "source": [
        "### 6-3 DataFrame 행 선택"
      ],
      "metadata": {
        "id": "lZ2fkkq7B9NN"
      }
    },
    {
      "cell_type": "code",
      "source": [
        "import pandas as pd\n",
        "\n",
        "data = {\n",
        "    \"이름\": [\"김철수\", \"이영희\", \"박민수\", \"최지훈\", \"정소희\"],\n",
        "    \"학년\": [1, 2, 3, 4, 2],\n",
        "    \"학점\": [4.2, 3.8, 4.5, 3.9, 3.5],\n",
        "    \"학과\": [\"컴퓨터공학\", \"경영학\", \"전자공학\", \"의학\", \"심리학\"],\n",
        "    \"동아리\": [\"프로그래밍\", \"독서토론\", \"로봇공학\", \"봉사활동\", \"음악감상\"]\n",
        "}\n",
        "\n",
        "#DataFrame 인덱스 지정\n",
        "df = pd.DataFrame(data, index=data['이름'])\n",
        "\n",
        "#DataFrame 행 선택\n",
        "print(df.loc['김철수'])\n",
        "print('\\n')\n",
        "print(df.loc[['김철수', '이영희']])\n",
        "print('\\n')\n",
        "print(df.loc['김철수':'박민수'])\n",
        "print('\\n')\n",
        "print('\\n')\n",
        "\n",
        "#DataFrame 위치 기반 행 선택\n",
        "print(df.iloc[1])\n",
        "print('\\n')\n",
        "print(df.iloc[[1,3]])\n",
        "print('\\n')\n",
        "print(df.iloc[0:3])\n",
        "print('\\n')\n",
        "print('\\n')\n",
        "\n",
        "#DataFrame 조건 기반 선택\n",
        "print(df[df['학점'] >= 4.0])\n",
        "print('\\n')\n",
        "print(df[df['학년'] == 2])\n",
        "print('\\n')\n",
        "print(df[(df['학년'] == 2) & (df['학점'] >= 3.7)])"
      ],
      "metadata": {
        "id": "Iztna0YTYe_e",
        "outputId": "701d837f-3210-445f-fc7b-0463fc733e06",
        "colab": {
          "base_uri": "https://localhost:8080/"
        }
      },
      "execution_count": 16,
      "outputs": [
        {
          "output_type": "stream",
          "name": "stdout",
          "text": [
            "이름       김철수\n",
            "학년         1\n",
            "학점       4.2\n",
            "학과     컴퓨터공학\n",
            "동아리    프로그래밍\n",
            "Name: 김철수, dtype: object\n",
            "\n",
            "\n",
            "      이름  학년   학점     학과    동아리\n",
            "김철수  김철수   1  4.2  컴퓨터공학  프로그래밍\n",
            "이영희  이영희   2  3.8    경영학   독서토론\n",
            "\n",
            "\n",
            "      이름  학년   학점     학과    동아리\n",
            "김철수  김철수   1  4.2  컴퓨터공학  프로그래밍\n",
            "이영희  이영희   2  3.8    경영학   독서토론\n",
            "박민수  박민수   3  4.5   전자공학   로봇공학\n",
            "\n",
            "\n",
            "\n",
            "\n",
            "이름      이영희\n",
            "학년        2\n",
            "학점      3.8\n",
            "학과      경영학\n",
            "동아리    독서토론\n",
            "Name: 이영희, dtype: object\n",
            "\n",
            "\n",
            "      이름  학년   학점   학과   동아리\n",
            "이영희  이영희   2  3.8  경영학  독서토론\n",
            "최지훈  최지훈   4  3.9   의학  봉사활동\n",
            "\n",
            "\n",
            "      이름  학년   학점     학과    동아리\n",
            "김철수  김철수   1  4.2  컴퓨터공학  프로그래밍\n",
            "이영희  이영희   2  3.8    경영학   독서토론\n",
            "박민수  박민수   3  4.5   전자공학   로봇공학\n",
            "\n",
            "\n",
            "\n",
            "\n",
            "      이름  학년   학점     학과    동아리\n",
            "김철수  김철수   1  4.2  컴퓨터공학  프로그래밍\n",
            "박민수  박민수   3  4.5   전자공학   로봇공학\n",
            "\n",
            "\n",
            "      이름  학년   학점   학과   동아리\n",
            "이영희  이영희   2  3.8  경영학  독서토론\n",
            "정소희  정소희   2  3.5  심리학  음악감상\n",
            "\n",
            "\n",
            "      이름  학년   학점   학과   동아리\n",
            "이영희  이영희   2  3.8  경영학  독서토론\n"
          ]
        }
      ]
    },
    {
      "cell_type": "markdown",
      "source": [
        "### 6-4 DataFrame 정렬"
      ],
      "metadata": {
        "id": "EX3RYr5jCfka"
      }
    },
    {
      "cell_type": "markdown",
      "source": [],
      "metadata": {
        "id": "G_mEibnYC_tQ"
      }
    },
    {
      "cell_type": "code",
      "source": [
        "import pandas as pd\n",
        "\n",
        "data = {\n",
        "    \"이름\": [\"김철수\", \"이영희\", \"박민수\", \"최지훈\", \"정소희\"],\n",
        "    \"학년\": [1, 2, 3, 4, 2],\n",
        "    \"학점\": [4.2, 3.8, 4.5, 3.9, 3.5],\n",
        "    \"학과\": [\"컴퓨터공학\", \"경영학\", \"전자공학\", \"의학\", \"심리학\"],\n",
        "    \"동아리\": [\"프로그래밍\", \"독서토론\", \"로봇공학\", \"봉사활동\", \"음악감상\"]\n",
        "}\n",
        "\n",
        "#DataFrame 인덱스 지정\n",
        "\n",
        "#DataFrame 단일 열 오름차순, 내림차순 정렬\n",
        "\n",
        "#DataFrame 복수 열 오름차순, 내림차순 정렬\n",
        "\n",
        "#DataFrame 인덱스 기분 오른차순, 내림차순 정렬\n"
      ],
      "metadata": {
        "id": "T9G-46ITYx7b"
      },
      "execution_count": null,
      "outputs": []
    },
    {
      "cell_type": "markdown",
      "source": [
        "## 6-5 실습 시나리오 - Kaggle을 활용한 데이터 수집 및 측정"
      ],
      "metadata": {
        "id": "6ui5L5oe8HH-"
      }
    },
    {
      "cell_type": "markdown",
      "source": [
        "- Kaggle([https://www.kaggle.com](https://www.kaggle.com)) 회원 가입\n",
        "- Kaggle 접근 토큰 생성(API 키)\n"
      ],
      "metadata": {
        "id": "kX0puWUc8aNR"
      }
    },
    {
      "cell_type": "markdown",
      "source": [
        "### Kaggle API 키 업로드"
      ],
      "metadata": {
        "id": "RtoqM2Mc98fS"
      }
    },
    {
      "cell_type": "code",
      "source": [
        "from google.colab import files\n",
        "files.upload()"
      ],
      "metadata": {
        "id": "OlIwjX8vaAF6"
      },
      "execution_count": null,
      "outputs": []
    },
    {
      "cell_type": "markdown",
      "source": [
        "### Kaggle API 키 사용을 위한 Colab 환경 설정"
      ],
      "metadata": {
        "id": "V3YAacMY-KAV"
      }
    },
    {
      "cell_type": "code",
      "source": [
        "!mkdir -p ~/.kaggle\n",
        "!cp kaggle.json ~/.kaggle/\n",
        "!chmod 600 ~/.kaggle/kaggle.json"
      ],
      "metadata": {
        "id": "9bknQa2TaDRD"
      },
      "execution_count": null,
      "outputs": []
    },
    {
      "cell_type": "markdown",
      "source": [
        "### Kaggle 데이터셋 다운로드"
      ],
      "metadata": {
        "id": "Dv2PN16j-ip4"
      }
    },
    {
      "cell_type": "code",
      "source": [
        "!kaggle competitions download –c store-sales-time-series-forecasting\n",
        "\n",
        "!unzip store-sales-time-series-forecasting.zip"
      ],
      "metadata": {
        "id": "nemk0pNOaEvh"
      },
      "execution_count": null,
      "outputs": []
    },
    {
      "cell_type": "markdown",
      "source": [
        "### Kaggle 데이터셋 DataFrame 로드 및 살펴보기"
      ],
      "metadata": {
        "id": "o31gdHgx-pik"
      }
    },
    {
      "cell_type": "code",
      "source": [
        "import pandas as pd\n",
        "\n",
        "# Grocery Sales 데이터 DataFrame 로드\n",
        "\n",
        "# 판매 데이터 살펴보기\n"
      ],
      "metadata": {
        "id": "QSoBpU9caKQ-"
      },
      "execution_count": null,
      "outputs": []
    },
    {
      "cell_type": "markdown",
      "source": [
        "### Kaggle 데이터셋 측정"
      ],
      "metadata": {
        "id": "-B_aRee0_CXf"
      }
    },
    {
      "cell_type": "code",
      "source": [
        "# 판매 데이터 기본 통계량\n",
        "\n",
        "# 매장 데이터 기본 정보\n",
        "\n",
        "# 원유 가격 데이터 기본 정보\n"
      ],
      "metadata": {
        "id": "d00dD1V0aNoO"
      },
      "execution_count": null,
      "outputs": []
    }
  ]
}